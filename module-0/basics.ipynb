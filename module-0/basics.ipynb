{
 "cells": [
  {
   "cell_type": "code",
   "execution_count": 1,
   "id": "0d0bc77f-f34a-4ef0-8e47-09e867e0954b",
   "metadata": {},
   "outputs": [],
   "source": [
    "import os\n",
    "os.environ[\"TAVILY_API_KEY\"] = \"\""
   ]
  },
  {
   "cell_type": "code",
   "execution_count": 2,
   "id": "e19a54d3",
   "metadata": {},
   "outputs": [],
   "source": [
    "from langchain_ollama import ChatOllama\n",
    "from langchain_core.messages import HumanMessage\n",
    "from langchain_community.tools.tavily_search import TavilySearchResults"
   ]
  },
  {
   "cell_type": "code",
   "execution_count": 3,
   "id": "228fa141",
   "metadata": {},
   "outputs": [],
   "source": [
    "msg = HumanMessage(content=\"Hello world\", name=\"Lance\")\n",
    "messages = [msg]"
   ]
  },
  {
   "cell_type": "code",
   "execution_count": null,
   "id": "b1280e1b",
   "metadata": {},
   "outputs": [],
   "source": [
    "model_1_chat = ChatOllama(model=\"llama3.2:1b\", temperature=0)\n",
    "model_1_chat.invoke(messages)"
   ]
  },
  {
   "cell_type": "code",
   "execution_count": null,
   "id": "f27c6c9a",
   "metadata": {},
   "outputs": [],
   "source": [
    "model_2_chat = ChatOllama(model=\"deepseek-r1:1.5b\", temperature=0)\n",
    "model_2_chat.invoke(\"hello world\")"
   ]
  },
  {
   "cell_type": "code",
   "execution_count": null,
   "id": "52d69da9",
   "metadata": {},
   "outputs": [],
   "source": [
    "search_docs = TavilySearchResults(max_results=3).invoke(\"What is LangGraph?\")\n",
    "search_docs"
   ]
  },
  {
   "cell_type": "code",
   "execution_count": null,
   "id": "bafd7d5d",
   "metadata": {},
   "outputs": [],
   "source": []
  }
 ],
 "metadata": {
  "kernelspec": {
   "display_name": ".env",
   "language": "python",
   "name": "python3"
  },
  "language_info": {
   "codemirror_mode": {
    "name": "ipython",
    "version": 3
   },
   "file_extension": ".py",
   "mimetype": "text/x-python",
   "name": "python",
   "nbconvert_exporter": "python",
   "pygments_lexer": "ipython3",
   "version": "3.11.9"
  }
 },
 "nbformat": 4,
 "nbformat_minor": 5
}
